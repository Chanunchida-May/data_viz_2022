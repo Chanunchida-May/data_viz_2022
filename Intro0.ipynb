{
  "nbformat": 4,
  "nbformat_minor": 0,
  "metadata": {
    "colab": {
      "name": "Intro0.ipynb",
      "provenance": [],
      "authorship_tag": "ABX9TyOVvUTn7XEEe5g7taxL4KsK",
      "include_colab_link": true
    },
    "kernelspec": {
      "name": "python3",
      "display_name": "Python 3"
    },
    "language_info": {
      "name": "python"
    }
  },
  "cells": [
    {
      "cell_type": "markdown",
      "metadata": {
        "id": "view-in-github",
        "colab_type": "text"
      },
      "source": [
        "<a href=\"https://colab.research.google.com/github/Chanunchida-May/data_viz_2022/blob/main/Intro0.ipynb\" target=\"_parent\"><img src=\"https://colab.research.google.com/assets/colab-badge.svg\" alt=\"Open In Colab\"/></a>"
      ]
    },
    {
      "cell_type": "markdown",
      "source": [
        "###Introduction Basic Programming for Data Science and Data Visualization "
      ],
      "metadata": {
        "id": "ueZgQr0MH1dQ"
      }
    },
    {
      "cell_type": "code",
      "execution_count": 1,
      "metadata": {
        "colab": {
          "base_uri": "https://localhost:8080/"
        },
        "id": "m83GK_n0HwBc",
        "outputId": "4707dc74-3a05-43fc-e7bb-5ff70205653f"
      },
      "outputs": [
        {
          "output_type": "execute_result",
          "data": {
            "text/plain": [
              "19"
            ]
          },
          "metadata": {},
          "execution_count": 1
        }
      ],
      "source": [
        "a = 9\n",
        "b = 10\n",
        "a + b"
      ]
    },
    {
      "cell_type": "code",
      "source": [
        "print('ชนัญชิดา เมธีกุลมานิต ID 623020516-1')"
      ],
      "metadata": {
        "colab": {
          "base_uri": "https://localhost:8080/"
        },
        "id": "LE_aGisUH0-9",
        "outputId": "fe792f6a-354b-40eb-ff06-364fe5e4a56d"
      },
      "execution_count": 2,
      "outputs": [
        {
          "output_type": "stream",
          "name": "stdout",
          "text": [
            "ชนัญชิดา เมธีกุลมานิต ID 623020516-1\n"
          ]
        }
      ]
    },
    {
      "cell_type": "code",
      "source": [
        ""
      ],
      "metadata": {
        "id": "Fm0ShlLsH0u7"
      },
      "execution_count": null,
      "outputs": []
    }
  ]
}
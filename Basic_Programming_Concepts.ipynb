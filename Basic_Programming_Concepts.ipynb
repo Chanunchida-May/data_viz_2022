{
  "nbformat": 4,
  "nbformat_minor": 0,
  "metadata": {
    "colab": {
      "name": "Basic Programming Concepts.ipynb",
      "provenance": [],
      "authorship_tag": "ABX9TyMohB6aaxwj8BBDbNjp1MX2",
      "include_colab_link": true
    },
    "kernelspec": {
      "name": "python3",
      "display_name": "Python 3"
    },
    "language_info": {
      "name": "python"
    }
  },
  "cells": [
    {
      "cell_type": "markdown",
      "metadata": {
        "id": "view-in-github",
        "colab_type": "text"
      },
      "source": [
        "<a href=\"https://colab.research.google.com/github/Chanunchida-May/data_viz_2022/blob/main/Basic_Programming_Concepts.ipynb\" target=\"_parent\"><img src=\"https://colab.research.google.com/assets/colab-badge.svg\" alt=\"Open In Colab\"/></a>"
      ]
    },
    {
      "cell_type": "markdown",
      "source": [
        "#Functions "
      ],
      "metadata": {
        "id": "nfNaNnTxDhL_"
      }
    },
    {
      "cell_type": "markdown",
      "source": [
        "```python\n",
        "def function(input_x):\n",
        "  # do something with input_x to get output_y\n",
        "  return output_y\n",
        "  ```"
      ],
      "metadata": {
        "id": "LE1IaoV6EK0Q"
      }
    },
    {
      "cell_type": "markdown",
      "source": [
        "$f_1(x)=x^2 + 75$"
      ],
      "metadata": {
        "id": "6OCCNvIzFymU"
      }
    },
    {
      "cell_type": "code",
      "source": [
        "def function_f1(x):\n",
        "  a = x**2\n",
        "  y = a + 75 \n",
        "  return y\n",
        "  \n",
        "print('done!')"
      ],
      "metadata": {
        "colab": {
          "base_uri": "https://localhost:8080/"
        },
        "id": "Kk4O21JkECD9",
        "outputId": "4588c027-e612-42c8-ca18-dfda066cc845"
      },
      "execution_count": null,
      "outputs": [
        {
          "output_type": "stream",
          "name": "stdout",
          "text": [
            "done!\n"
          ]
        }
      ]
    },
    {
      "cell_type": "code",
      "source": [
        "function_f1(3)"
      ],
      "metadata": {
        "colab": {
          "base_uri": "https://localhost:8080/"
        },
        "id": "QKwJ7OlJECBl",
        "outputId": "afe7ca3a-5bcf-413f-cd7b-01f952b4a04c"
      },
      "execution_count": null,
      "outputs": [
        {
          "output_type": "execute_result",
          "data": {
            "text/plain": [
              "84"
            ]
          },
          "metadata": {},
          "execution_count": 5
        }
      ]
    },
    {
      "cell_type": "markdown",
      "source": [
        "function มีส่วนสำคัญทั้งหมด 4 ส่วน\n",
        "\n",
        "1.บอก phython ว่าเราจะเขียนฟังก์ชั่น ชื่ออะไร def function_name():ขาดไม่ได้\n",
        "\n",
        "2.กำหนดตัวเเปรที่จะเป็น Input input ขาดได้\n",
        "\n",
        "3.ส่วนประมวณผล do_something with Input to get Output (ขาดไม่ได้)\n",
        "\n",
        "4.ส่วน Output `return` _Output_(ขาดได้)"
      ],
      "metadata": {
        "id": "Ubn0TndTHRzK"
      }
    },
    {
      "cell_type": "markdown",
      "source": [
        "### ตัวอย่าง function ที่มีส่วนประกอบครบ"
      ],
      "metadata": {
        "id": "KbvWbndqH6L6"
      }
    },
    {
      "cell_type": "code",
      "source": [
        "def function_f1(x):\n",
        "  a = x**2\n",
        "  y = a + 75 \n",
        "  return y\n",
        "  "
      ],
      "metadata": {
        "id": "mdP9ZMfVEB-2"
      },
      "execution_count": null,
      "outputs": []
    },
    {
      "cell_type": "markdown",
      "source": [
        "### ตัวอย่าง function ที่ไม่มี input "
      ],
      "metadata": {
        "id": "bt07t7hmIIIi"
      }
    },
    {
      "cell_type": "code",
      "source": [
        "def pi_v():\n",
        "  y = 3.14159265359\n",
        "  return y \n",
        " "
      ],
      "metadata": {
        "id": "-bXMzhprEB8O"
      },
      "execution_count": null,
      "outputs": []
    },
    {
      "cell_type": "code",
      "source": [
        "piv = pi_v()\n",
        "circle_area_r2 = pi_v()*(2**2) #2**2 คือ เลข 2 ยกกำลัง 2\n",
        "print(circle_area_r2)"
      ],
      "metadata": {
        "colab": {
          "base_uri": "https://localhost:8080/"
        },
        "id": "MzTmsL2gEB54",
        "outputId": "4bc1e5c5-8483-4237-e4c0-7ff0e3c9cad2"
      },
      "execution_count": null,
      "outputs": [
        {
          "output_type": "stream",
          "name": "stdout",
          "text": [
            "12.56637061436\n"
          ]
        }
      ]
    },
    {
      "cell_type": "markdown",
      "source": [
        "### Function ไม่มี process ไม่ได้"
      ],
      "metadata": {
        "id": "qthR_B22JMXv"
      }
    },
    {
      "cell_type": "code",
      "source": [
        "def function_a(): "
      ],
      "metadata": {
        "colab": {
          "base_uri": "https://localhost:8080/",
          "height": 130
        },
        "id": "qaOuhAbnI-76",
        "outputId": "95f9dba3-8ff7-4bb2-b4ef-d1efe1b7e5cc"
      },
      "execution_count": null,
      "outputs": [
        {
          "output_type": "error",
          "ename": "SyntaxError",
          "evalue": "ignored",
          "traceback": [
            "\u001b[0;36m  File \u001b[0;32m\"<ipython-input-10-07a0750214a8>\"\u001b[0;36m, line \u001b[0;32m1\u001b[0m\n\u001b[0;31m    def function_a():\u001b[0m\n\u001b[0m                     ^\u001b[0m\n\u001b[0;31mSyntaxError\u001b[0m\u001b[0;31m:\u001b[0m unexpected EOF while parsing\n"
          ]
        }
      ]
    },
    {
      "cell_type": "markdown",
      "source": [
        "### ตัวอย่าง Function ที่ไม่มี output"
      ],
      "metadata": {
        "id": "QPVyfSi7JYse"
      }
    },
    {
      "cell_type": "code",
      "source": [
        "def print_name_id(name,id):\n",
        "  \n",
        "    print(f'ชื่อ {name} รหัสประจำตัว {id}')"
      ],
      "metadata": {
        "id": "rCPWZc3mI-5S"
      },
      "execution_count": null,
      "outputs": []
    },
    {
      "cell_type": "code",
      "source": [
        "print_name_id('ชนัญชิดา','623020516-1')"
      ],
      "metadata": {
        "colab": {
          "base_uri": "https://localhost:8080/"
        },
        "id": "qzMoyxScI-2H",
        "outputId": "54b59d1d-8015-48b1-fddf-3a8e0268d650"
      },
      "execution_count": null,
      "outputs": [
        {
          "output_type": "stream",
          "name": "stdout",
          "text": [
            "ชื่อ ชนัญชิดา รหัสประจำตัว 623020516-1\n"
          ]
        }
      ]
    },
    {
      "cell_type": "code",
      "source": [
        "a = print_name_id('ชนัญชิดา','623020516-1')"
      ],
      "metadata": {
        "colab": {
          "base_uri": "https://localhost:8080/"
        },
        "id": "hmAyj4ujI-xT",
        "outputId": "8a34bc43-a134-4b0c-f1a8-9c97bab4f8aa"
      },
      "execution_count": null,
      "outputs": [
        {
          "output_type": "stream",
          "name": "stdout",
          "text": [
            "ชื่อ ชนัญชิดา รหัสประจำตัว 623020516-1\n"
          ]
        }
      ]
    },
    {
      "cell_type": "code",
      "source": [
        "a"
      ],
      "metadata": {
        "id": "b5N1kkOQKlew"
      },
      "execution_count": null,
      "outputs": []
    },
    {
      "cell_type": "markdown",
      "source": [
        "## ตัวอย่าง"
      ],
      "metadata": {
        "id": "uA4dQFEvPBys"
      }
    },
    {
      "cell_type": "code",
      "source": [
        "print('ชนัญชิดา',end='->')\n",
        "print('623020516-1')"
      ],
      "metadata": {
        "colab": {
          "base_uri": "https://localhost:8080/"
        },
        "id": "6kiPha2oKld2",
        "outputId": "9dc9c1e5-10b5-495a-cb49-4b168277d1b4"
      },
      "execution_count": null,
      "outputs": [
        {
          "output_type": "stream",
          "name": "stdout",
          "text": [
            "ชนัญชิดา->623020516-1\n"
          ]
        }
      ]
    },
    {
      "cell_type": "code",
      "source": [
        "print('ชนัญชิดา','623020516-1')"
      ],
      "metadata": {
        "colab": {
          "base_uri": "https://localhost:8080/"
        },
        "id": "LaDA3aJCPBGE",
        "outputId": "f7b00af9-8ed9-4159-993b-2ff0ced571ac"
      },
      "execution_count": null,
      "outputs": [
        {
          "output_type": "stream",
          "name": "stdout",
          "text": [
            "ชนัญชิดา 623020516-1\n"
          ]
        }
      ]
    },
    {
      "cell_type": "code",
      "source": [
        "print('ชนัญชิดา','623020516-1',sep='&')"
      ],
      "metadata": {
        "colab": {
          "base_uri": "https://localhost:8080/"
        },
        "id": "ucuJGHwDPBEN",
        "outputId": "a03dbb95-1bfd-4f9d-d016-5234f79505ef"
      },
      "execution_count": null,
      "outputs": [
        {
          "output_type": "stream",
          "name": "stdout",
          "text": [
            "ชนัญชิดา&623020516-1\n"
          ]
        }
      ]
    },
    {
      "cell_type": "markdown",
      "source": [
        "## input ของ function เเบ่งเป็น 2 ชนิด (จำเป็นต้องใส่ กับ ไม่จำเป็นต้องใส่)"
      ],
      "metadata": {
        "id": "olda7oHtQEfU"
      }
    },
    {
      "cell_type": "markdown",
      "source": [
        "ตัวอย่าง function `print_grade()` มี input 3 ตัว จำเป็นต้องใส่ 2 ตัว คือ name กับ id เเละไม่จำเป็นต้องใส่ 1 ตัว คือเกรด ซึ่งมีค่า default เป็น A"
      ],
      "metadata": {
        "id": "4hoxGiP2RGOc"
      }
    },
    {
      "cell_type": "code",
      "source": [
        "def print_grade(name,id,grade = 'F'):\n",
        "    print(f'รหัสประจำตัว {id} ชื่อ {name}')\n",
        "    print(f'ได้เกรด {grade}')"
      ],
      "metadata": {
        "id": "wuG4UNgAZQpG"
      },
      "execution_count": 4,
      "outputs": []
    },
    {
      "cell_type": "code",
      "source": [
        "print_grade('ชนัญชิดา','623020516-1')"
      ],
      "metadata": {
        "id": "GaaGERdsZX3e",
        "outputId": "4da244e4-8645-4141-a463-7ff3445c5cc0",
        "colab": {
          "base_uri": "https://localhost:8080/"
        }
      },
      "execution_count": 5,
      "outputs": [
        {
          "output_type": "stream",
          "name": "stdout",
          "text": [
            "รหัสประจำตัว 623020516-1 ชื่อ ชนัญชิดา\n",
            "ได้เกรด F\n"
          ]
        }
      ]
    },
    {
      "cell_type": "code",
      "source": [
        "print_grade('ชนัญชิดา','623020516-1','A')"
      ],
      "metadata": {
        "colab": {
          "base_uri": "https://localhost:8080/"
        },
        "id": "w5-hEQd-RwMZ",
        "outputId": "d8d32581-3c95-4f37-bbc7-128542c0bcc8"
      },
      "execution_count": null,
      "outputs": [
        {
          "output_type": "stream",
          "name": "stdout",
          "text": [
            "ชื่อ ชนัญชิดา รหัสประจำตัว 623020516-1\n",
            "ได้เกรด A\n"
          ]
        }
      ]
    },
    {
      "cell_type": "code",
      "source": [
        "print_grade(id='623020516-1',name='ชนัญชิดา',grade='B+')"
      ],
      "metadata": {
        "id": "LY8EanlDPBBe",
        "outputId": "187ea9bf-df15-4b2c-8729-151fcafc2acd",
        "colab": {
          "base_uri": "https://localhost:8080/"
        }
      },
      "execution_count": 6,
      "outputs": [
        {
          "output_type": "stream",
          "name": "stdout",
          "text": [
            "รหัสประจำตัว 623020516-1 ชื่อ ชนัญชิดา\n",
            "ได้เกรด B+\n"
          ]
        }
      ]
    },
    {
      "cell_type": "markdown",
      "source": [
        "##Looping \n",
        "\n",
        "```  \n",
        "for member in listEX:\n",
        "\n",
        "    do_something()\n",
        "```"
      ],
      "metadata": {
        "id": "Tfvzm9jKDmpD"
      }
    },
    {
      "cell_type": "code",
      "source": [
        "for member in[1,2,3,4,5,6]:\n",
        "    print(member)"
      ],
      "metadata": {
        "colab": {
          "base_uri": "https://localhost:8080/"
        },
        "id": "wDsJQn0XjZxz",
        "outputId": "453b9722-b3ec-4d42-a40e-b98b2f495679"
      },
      "execution_count": null,
      "outputs": [
        {
          "output_type": "stream",
          "name": "stdout",
          "text": [
            "1\n",
            "2\n",
            "3\n",
            "4\n",
            "5\n",
            "6\n"
          ]
        }
      ]
    },
    {
      "cell_type": "code",
      "source": [
        "def print_name(name):\n",
        "    print(f'ฉันชื่อ {name}')"
      ],
      "metadata": {
        "id": "T6qPxTEdjZv0"
      },
      "execution_count": null,
      "outputs": []
    },
    {
      "cell_type": "code",
      "source": [
        "for name in ['ภิญญาดา','ณิชากร','ทอฝัน','กิตติมา','นฤมล','ชนัญชิดา']:\n",
        "    N = name\n",
        "    print_name(N)"
      ],
      "metadata": {
        "colab": {
          "base_uri": "https://localhost:8080/"
        },
        "id": "OGLxZCapjZum",
        "outputId": "b2184a53-5322-4ba6-909c-d8f6988f892a"
      },
      "execution_count": null,
      "outputs": [
        {
          "output_type": "stream",
          "name": "stdout",
          "text": [
            "ฉันชื่อ ภิญญาดา\n",
            "ฉันชื่อ ณิชากร\n",
            "ฉันชื่อ ทอฝัน\n",
            "ฉันชื่อ กิตติมา\n",
            "ฉันชื่อ นฤมล\n",
            "ฉันชื่อ ชนัญชิดา\n"
          ]
        }
      ]
    },
    {
      "cell_type": "code",
      "source": [
        "list_name_id_grade = [['ชนัญชิดา เมธีกุลมานิต','623020516-1','A'],['มูมูเตลู อุบ่ะ','623020516-1','A']]"
      ],
      "metadata": {
        "id": "s8S1RkQ8jZtT"
      },
      "execution_count": null,
      "outputs": []
    },
    {
      "cell_type": "code",
      "source": [
        "for each in list_name_id_grade:\n",
        "    name = each[0]\n",
        "    id = each[1]\n",
        "    grade = each[2]\n",
        "    print_grade(name,id,grade)\n",
        "    print('----------------')"
      ],
      "metadata": {
        "colab": {
          "base_uri": "https://localhost:8080/"
        },
        "id": "YWMauKaXjZrQ",
        "outputId": "32acc78b-8a14-4c5b-a0c0-097417aefc6b"
      },
      "execution_count": null,
      "outputs": [
        {
          "output_type": "stream",
          "name": "stdout",
          "text": [
            "รหัสประจำตัว 623020516-1 ชื่อ ชนัญชิดา เมธีกุลมานิต\n",
            "ได้เกรด A\n",
            "----------------\n",
            "รหัสประจำตัว 623020516-1 ชื่อ มูมูเตลู อุบ่ะ\n",
            "ได้เกรด A\n",
            "----------------\n"
          ]
        }
      ]
    },
    {
      "cell_type": "markdown",
      "source": [
        "###ใช้ for loop เพิ่มสมาชิกใน list"
      ],
      "metadata": {
        "id": "nN7irUFikXre"
      }
    },
    {
      "cell_type": "code",
      "source": [
        "list_name = []\n",
        "list_id = []\n",
        "list_grade = []\n",
        "for each in list_name_id_grade:\n",
        "    list_name.append(each[0])\n",
        "    list_id.append(each[1])\n",
        "    list_grade.append(each[2])"
      ],
      "metadata": {
        "id": "Cd077WQ_jZoi"
      },
      "execution_count": null,
      "outputs": []
    },
    {
      "cell_type": "code",
      "source": [
        "list_name"
      ],
      "metadata": {
        "colab": {
          "base_uri": "https://localhost:8080/"
        },
        "id": "V0uGU8BikanB",
        "outputId": "e0020b7c-1620-40ba-90a1-42f65a519912"
      },
      "execution_count": null,
      "outputs": [
        {
          "output_type": "execute_result",
          "data": {
            "text/plain": [
              "['ชนัญชิดา เมธีกุลมานิต', 'มูมูเตลู อุบ่ะ']"
            ]
          },
          "metadata": {},
          "execution_count": 33
        }
      ]
    },
    {
      "cell_type": "markdown",
      "source": [
        "###การวนลูปด้วย \n",
        "```\n",
        "range()\n",
        "```"
      ],
      "metadata": {
        "id": "RUdpBhUCkjXX"
      }
    },
    {
      "cell_type": "code",
      "source": [
        "for i in range(100):\n",
        "    print('Lumos', end = ' ')"
      ],
      "metadata": {
        "colab": {
          "base_uri": "https://localhost:8080/"
        },
        "id": "bO2XNnKTkail",
        "outputId": "5c1b9f2c-0782-458c-9b58-d5b3937fe727"
      },
      "execution_count": null,
      "outputs": [
        {
          "output_type": "stream",
          "name": "stdout",
          "text": [
            "Lumos Lumos Lumos Lumos Lumos Lumos Lumos Lumos Lumos Lumos Lumos Lumos Lumos Lumos Lumos Lumos Lumos Lumos Lumos Lumos Lumos Lumos Lumos Lumos Lumos Lumos Lumos Lumos Lumos Lumos Lumos Lumos Lumos Lumos Lumos Lumos Lumos Lumos Lumos Lumos Lumos Lumos Lumos Lumos Lumos Lumos Lumos Lumos Lumos Lumos Lumos Lumos Lumos Lumos Lumos Lumos Lumos Lumos Lumos Lumos Lumos Lumos Lumos Lumos Lumos Lumos Lumos Lumos Lumos Lumos Lumos Lumos Lumos Lumos Lumos Lumos Lumos Lumos Lumos Lumos Lumos Lumos Lumos Lumos Lumos Lumos Lumos Lumos Lumos Lumos Lumos Lumos Lumos Lumos Lumos Lumos Lumos Lumos Lumos Lumos "
          ]
        }
      ]
    },
    {
      "cell_type": "markdown",
      "source": [
        "###Loop ซ้อน Loop"
      ],
      "metadata": {
        "id": "V9jpGzaZk6Xr"
      }
    },
    {
      "cell_type": "code",
      "source": [
        "for mem1 in range(2,5): #[2,3,4]\n",
        "    print(f'now mem1 = {mem1}')\n",
        "    for mem2 in range(1,13): #[1,2,3,4,5,6,7,8,9,10,11,12]\n",
        "        print(f'{mem1} x {mem2} = {mem1*mem2}')\n",
        "    print(f'end inner for mem1 = {mem1}')"
      ],
      "metadata": {
        "colab": {
          "base_uri": "https://localhost:8080/"
        },
        "id": "PDTzt6z4kaf_",
        "outputId": "5fee3081-ceee-4379-cce4-e65dd2798e6f"
      },
      "execution_count": null,
      "outputs": [
        {
          "output_type": "stream",
          "name": "stdout",
          "text": [
            "now mem1 = 2\n",
            "2 x 1 = 2\n",
            "2 x 2 = 4\n",
            "2 x 3 = 6\n",
            "2 x 4 = 8\n",
            "2 x 5 = 10\n",
            "2 x 6 = 12\n",
            "2 x 7 = 14\n",
            "2 x 8 = 16\n",
            "2 x 9 = 18\n",
            "2 x 10 = 20\n",
            "2 x 11 = 22\n",
            "2 x 12 = 24\n",
            "end inner for mem1 = 2\n",
            "now mem1 = 3\n",
            "3 x 1 = 3\n",
            "3 x 2 = 6\n",
            "3 x 3 = 9\n",
            "3 x 4 = 12\n",
            "3 x 5 = 15\n",
            "3 x 6 = 18\n",
            "3 x 7 = 21\n",
            "3 x 8 = 24\n",
            "3 x 9 = 27\n",
            "3 x 10 = 30\n",
            "3 x 11 = 33\n",
            "3 x 12 = 36\n",
            "end inner for mem1 = 3\n",
            "now mem1 = 4\n",
            "4 x 1 = 4\n",
            "4 x 2 = 8\n",
            "4 x 3 = 12\n",
            "4 x 4 = 16\n",
            "4 x 5 = 20\n",
            "4 x 6 = 24\n",
            "4 x 7 = 28\n",
            "4 x 8 = 32\n",
            "4 x 9 = 36\n",
            "4 x 10 = 40\n",
            "4 x 11 = 44\n",
            "4 x 12 = 48\n",
            "end inner for mem1 = 4\n"
          ]
        }
      ]
    },
    {
      "cell_type": "markdown",
      "source": [
        "## Conditional Statement(if)\n",
        "\n",
        "**if condition1:**\n",
        "    do_something() \n",
        "     # ถ้า condition1 เป็นจริง ทำ do_something()\n",
        "\n",
        "**elif condition2:**\n",
        "    do_another_thing()    \n",
        "    # ถ้า condition1 ไม่เป็นจริงแต่ condition2 เป็นจริง ทำ do_another_thing()\n",
        "    \n",
        "**else:**\n",
        "    do_the_last_thing() \n",
        "    *\n",
        "    # ถ้าไม่มี condition ไหนเป็นจริงเลย ทำ do_the_last_thing()"
      ],
      "metadata": {
        "id": "S1HknH4MD0Qm"
      }
    },
    {
      "cell_type": "code",
      "execution_count": null,
      "metadata": {
        "id": "_fp8MdUpDYjz",
        "colab": {
          "base_uri": "https://localhost:8080/"
        },
        "outputId": "05bc86c3-6f3c-4c6f-d460-756d8a93142a"
      },
      "outputs": [
        {
          "output_type": "stream",
          "name": "stdout",
          "text": [
            "ชนัญชิดา เมธีกุลมานิต ได้เกรด A\n",
            "มูมูเตลู อุบ่ะ ได้เกรด F\n"
          ]
        }
      ],
      "source": [
        "for n in list_name:\n",
        "    if len(n)>20:\n",
        "        print(f'{n} ได้เกรด A')\n",
        "    else:\n",
        "        print(f'{n} ได้เกรด F')"
      ]
    },
    {
      "cell_type": "markdown",
      "source": [
        "###operator ที่ใช้ตรวจสอบ condition\n",
        "\n",
        "==, !=, >=, <=, <, >, and, or"
      ],
      "metadata": {
        "id": "tk0xD09vpQ5q"
      }
    },
    {
      "cell_type": "code",
      "source": [
        "a = 10 == 20\n",
        "print(a)\n"
      ],
      "metadata": {
        "id": "Jz31fuWqDld2",
        "colab": {
          "base_uri": "https://localhost:8080/"
        },
        "outputId": "4cc87681-e068-4d72-fdd0-9349c332d4e1"
      },
      "execution_count": null,
      "outputs": [
        {
          "output_type": "stream",
          "name": "stdout",
          "text": [
            "False\n"
          ]
        }
      ]
    },
    {
      "cell_type": "code",
      "source": [
        "b = 15 <= 20\n",
        "print(b)"
      ],
      "metadata": {
        "id": "8e_sElQjDlZo",
        "colab": {
          "base_uri": "https://localhost:8080/"
        },
        "outputId": "2e2e2203-7f61-4fc9-9012-ad8b3035c7ba"
      },
      "execution_count": null,
      "outputs": [
        {
          "output_type": "stream",
          "name": "stdout",
          "text": [
            "True\n"
          ]
        }
      ]
    },
    {
      "cell_type": "code",
      "source": [
        "if a:\n",
        "    print('x')"
      ],
      "metadata": {
        "id": "JvuS1C8kDlWu"
      },
      "execution_count": null,
      "outputs": []
    },
    {
      "cell_type": "code",
      "source": [
        "if True:\n",
        "    print('x')\n"
      ],
      "metadata": {
        "id": "5ayc5qcSDlUI",
        "colab": {
          "base_uri": "https://localhost:8080/"
        },
        "outputId": "90dc811b-7641-4d96-9b62-188428597409"
      },
      "execution_count": null,
      "outputs": [
        {
          "output_type": "stream",
          "name": "stdout",
          "text": [
            "x\n"
          ]
        }
      ]
    },
    {
      "cell_type": "code",
      "source": [
        "if a and b:\n",
        "    print('x')"
      ],
      "metadata": {
        "id": "X3LFKOOJDlRS"
      },
      "execution_count": null,
      "outputs": []
    },
    {
      "cell_type": "code",
      "source": [
        "if a or b:\n",
        "    print('x')"
      ],
      "metadata": {
        "id": "VWJz0GfKDlOa",
        "colab": {
          "base_uri": "https://localhost:8080/"
        },
        "outputId": "8ae49a3a-72d6-4a49-deef-15db42a9d4da"
      },
      "execution_count": null,
      "outputs": [
        {
          "output_type": "stream",
          "name": "stdout",
          "text": [
            "x\n"
          ]
        }
      ]
    },
    {
      "cell_type": "markdown",
      "source": [
        "##HWเขียน function ตัดเกรด โดยที่ input เป็นคะแนน(0-100) , output เป็นเกรด (F-A) หรือ 'ไม่สามารถตัดเกรดได้'\n",
        "\n",
        "**วนลูปตัดเกรด input = [1,50,65,90,101,-5,49,'ก',80]**\n",
        "\n",
        "กำหนด\n",
        "\n",
        "* ถ้าคะแนนอยู่ระหว่างมากกว่าหรือเท่ากับ 0 แต่น้อยกว่า 50 จะได้เกรด F\n",
        "* ถ้าคะแนนอยู่ระหว่างมากกว่าหรือเท่ากับ 50 แต่น้อยกว่า 55 จะได้เกรด D\n",
        "* ถ้าคะแนนอยู่ระหว่างมากกว่าหรือเท่ากับ 55 แต่น้อยกว่า 60 จะได้เกรด D+\n",
        "* ถ้าคะแนนอยู่ระหว่างมากกว่าหรือเท่ากับ 60 แต่น้อยกว่า 65 จะได้เกรด C\n",
        "* ถ้าคะแนนอยู่ระหว่างมากกว่าหรือเท่ากับ 65 แต่น้อยกว่า 70 จะได้เกรด C+\n",
        "* ถ้าคะแนนอยู่ระหว่างมากกว่าหรือเท่ากับ 70 แต่น้อยกว่า 75 จะได้เกรด B\n",
        "* ถ้าคะแนนอยู่ระหว่างมากกว่าหรือเท่ากับ 75 แต่น้อยกว่า 80 จะได้เกรด B+\n",
        "* ถ้าคะแนนอยู่ระหว่างมากกว่าหรือเท่ากับ 80 จะได้เกรด A\n",
        "* ถ้าคะแนนไม่อยู่ในช่วง 0-100 ให้ return 'ไม่สามารถตัดเกรดได้'"
      ],
      "metadata": {
        "id": "PptY8Ooyphhw"
      }
    },
    {
      "cell_type": "code",
      "source": [
        "score1 = [1,50,65,90,101,-5,49,'ก',80] \n",
        "for i in score1:\n",
        "    if type(i) == type(''):\n",
        "        print(f'คะแนน {i} ไม่สามารถตัดเกรดได้')\n",
        "    else:  \n",
        "        if i >= 101:\n",
        "            print(f'คะแนน {i} ไม่สามารถตัดเกรดได้')\n",
        "        elif i >= 80:\n",
        "            print(f'คะแนน {i} Grade A')    \n",
        "        elif i >= 75:\n",
        "            print(f'คะแนน {i} Grade B+')\n",
        "        elif i >= 70:\n",
        "            print(f'คะแนน {i} Grade B')\n",
        "        elif i >= 65:\n",
        "            print(f'คะแนน {i} Grade C+')\n",
        "        elif i >= 60:\n",
        "            print(f'คะแนน {i} Grade C')\n",
        "        elif i >= 55:\n",
        "            print(f'คะแนน {i} Grade D+')\n",
        "        elif i >= 50:\n",
        "            print(f'คะแนน {i} Grade D')\n",
        "        elif i>=0:\n",
        "            print(f'คะเเนน {i} Grade F')\n",
        "        else:\n",
        "            print(f'คะเเนน {i} ไม่สามารถตัดเกรดได้')\n",
        "    print(' ')"
      ],
      "metadata": {
        "id": "R9mnApt2DlLU",
        "outputId": "2e9be373-5b3f-4d2a-ae1a-6cb8a164a47b",
        "colab": {
          "base_uri": "https://localhost:8080/"
        }
      },
      "execution_count": 3,
      "outputs": [
        {
          "output_type": "stream",
          "name": "stdout",
          "text": [
            "คะเเนน 1 Grade F\n",
            " \n",
            "คะแนน 50 Grade D\n",
            " \n",
            "คะแนน 65 Grade C+\n",
            " \n",
            "คะแนน 90 Grade A\n",
            " \n",
            "คะแนน 101 ไม่สามารถตัดเกรดได้\n",
            " \n",
            "คะเเนน -5 ไม่สามารถตัดเกรดได้\n",
            " \n",
            "คะเเนน 49 Grade F\n",
            " \n",
            "คะแนน ก ไม่สามารถตัดเกรดได้\n",
            " \n",
            "คะแนน 80 Grade A\n",
            " \n"
          ]
        }
      ]
    },
    {
      "cell_type": "code",
      "source": [
        ""
      ],
      "metadata": {
        "id": "VWUGRig9DlI1"
      },
      "execution_count": null,
      "outputs": []
    },
    {
      "cell_type": "code",
      "source": [
        ""
      ],
      "metadata": {
        "id": "7iPsCDqoXSND"
      },
      "execution_count": null,
      "outputs": []
    },
    {
      "cell_type": "code",
      "source": [
        ""
      ],
      "metadata": {
        "id": "IQzEZfpeXSJI"
      },
      "execution_count": null,
      "outputs": []
    },
    {
      "cell_type": "code",
      "source": [
        ""
      ],
      "metadata": {
        "id": "BKvyJJt_XSE6"
      },
      "execution_count": null,
      "outputs": []
    },
    {
      "cell_type": "code",
      "source": [
        ""
      ],
      "metadata": {
        "id": "wLjUREjPXSA_"
      },
      "execution_count": null,
      "outputs": []
    }
  ]
}